{
 "cells": [
  {
   "cell_type": "markdown",
   "metadata": {},
   "source": [
    "# Funciones"
   ]
  },
  {
   "cell_type": "markdown",
   "metadata": {},
   "source": [
    "Importación de Librerías"
   ]
  },
  {
   "cell_type": "code",
   "execution_count": 1,
   "metadata": {},
   "outputs": [],
   "source": [
    "from fastapi import FastAPI, HTTPException, Query, APIRouter\n",
    "from fastapi.openapi.models import OpenAPI, Info\n",
    "from fastapi.openapi.utils import get_openapi\n",
    "from fastapi.responses import JSONResponse\n",
    "import pandas as pd\n",
    "from sklearn.metrics.pairwise import cosine_similarity\n",
    "from sklearn.preprocessing import LabelEncoder\n",
    "from sklearn.decomposition import TruncatedSVD\n",
    "from sklearn.preprocessing import StandardScaler\n",
    "from sklearn.neighbors import NearestNeighbors\n",
    "import numpy as np"
   ]
  },
  {
   "cell_type": "code",
   "execution_count": 131,
   "metadata": {},
   "outputs": [],
   "source": [
    "app = FastAPI()    # http://127.0.0.1:8000\n",
    "df = pd.read_csv('final_data.csv')"
   ]
  },
  {
   "cell_type": "markdown",
   "metadata": {},
   "source": [
    "Función PlayTimeGenre - Total de horas jugadas en determinado género por año."
   ]
  },
  {
   "cell_type": "code",
   "execution_count": 133,
   "metadata": {},
   "outputs": [],
   "source": [
    "@app.get(\"/PlayTimeGenre/{genre}\")\n",
    "def PlayTimeGenre(genre: str):\n",
    "    # Filter the dataset by the specified genre\n",
    "    genre_data = df[df['genres'] == genre]\n",
    "\n",
    "    # Check if the filtered DataFrame is empty\n",
    "    if genre_data.empty:\n",
    "        return {\"genre\": genre, \"most_played_year\": None}\n",
    "\n",
    "    # Use .loc to set the 'release_year' column\n",
    "    genre_data.loc[:, 'release_year'] = pd.to_datetime(genre_data['release_date']).dt.year\n",
    "\n",
    "    # Group the filtered data by release year and calculate total playtime\n",
    "    year_playtime = genre_data.groupby('release_year')['playtime_forever'].sum()\n",
    "\n",
    "    # Find the year with the highest total playtime\n",
    "    most_played_year = year_playtime.idxmax()\n",
    "\n",
    "    return {\"genre\": genre, \"most_played_year\": int(most_played_year)}\n"
   ]
  },
  {
   "cell_type": "code",
   "execution_count": 134,
   "metadata": {},
   "outputs": [
    {
     "name": "stderr",
     "output_type": "stream",
     "text": [
      "C:\\Users\\HP\\AppData\\Local\\Temp\\ipykernel_15200\\1768955726.py:11: SettingWithCopyWarning: \n",
      "A value is trying to be set on a copy of a slice from a DataFrame.\n",
      "Try using .loc[row_indexer,col_indexer] = value instead\n",
      "\n",
      "See the caveats in the documentation: https://pandas.pydata.org/pandas-docs/stable/user_guide/indexing.html#returning-a-view-versus-a-copy\n",
      "  genre_data.loc[:, 'release_year'] = pd.to_datetime(genre_data['release_date']).dt.year\n"
     ]
    },
    {
     "data": {
      "text/plain": [
       "{'genre': 'Action', 'most_played_year': 2012}"
      ]
     },
     "execution_count": 134,
     "metadata": {},
     "output_type": "execute_result"
    }
   ],
   "source": [
    "PlayTimeGenre('Action')"
   ]
  },
  {
   "cell_type": "markdown",
   "metadata": {},
   "source": [
    "Función UserForGenre - Total de horas jugadas por usuario en determinado género."
   ]
  },
  {
   "cell_type": "code",
   "execution_count": 135,
   "metadata": {},
   "outputs": [],
   "source": [
    "@app.get(\"/UsersForGenre/{genre}\")\n",
    "def UserForGenre(genre: str):\n",
    "    # Filter the dataset by the specified genre\n",
    "    genre_data = df[df['genres'] == genre]\n",
    "\n",
    "    # Convert the 'posted' column to datetime when filtering the data\n",
    "    genre_data['posted'] = pd.to_datetime(genre_data['posted'])\n",
    "\n",
    "    # Group the filtered data by user, item_id (or item_name), and release year, and calculate total playtime\n",
    "    user_item_year_playtime = genre_data.groupby(['user_id', 'item_id', genre_data['posted'].dt.year])['playtime_forever'].sum().reset_index()\n",
    "\n",
    "    # Find the user with the highest total playtime for that genre\n",
    "    most_played_user = user_item_year_playtime.groupby('user_id')['playtime_forever'].sum().idxmax()\n",
    "\n",
    "    # Filter data for the most played user\n",
    "    most_played_user_data = user_item_year_playtime[user_item_year_playtime['user_id'] == most_played_user]\n",
    "\n",
    "    # Create a list of accumulated playtime by year for the most played user\n",
    "    year_sum_list = most_played_user_data.rename(columns={'posted': 'Año', 'playtime_forever': 'Horas'}).to_dict(orient='records')\n",
    "\n",
    "    return {\"Usuario con más horas jugadas para Género \" + genre: most_played_user, \"Horas jugadas\": year_sum_list}"
   ]
  },
  {
   "cell_type": "code",
   "execution_count": 136,
   "metadata": {},
   "outputs": [
    {
     "name": "stderr",
     "output_type": "stream",
     "text": [
      "C:\\Users\\HP\\AppData\\Local\\Temp\\ipykernel_15200\\3348107609.py:7: SettingWithCopyWarning: \n",
      "A value is trying to be set on a copy of a slice from a DataFrame.\n",
      "Try using .loc[row_indexer,col_indexer] = value instead\n",
      "\n",
      "See the caveats in the documentation: https://pandas.pydata.org/pandas-docs/stable/user_guide/indexing.html#returning-a-view-versus-a-copy\n",
      "  genre_data['posted'] = pd.to_datetime(genre_data['posted'])\n"
     ]
    },
    {
     "data": {
      "text/plain": [
       "{'Usuario con más horas jugadas para Género Action': 'Sp3ctre',\n",
       " 'Horas jugadas': [{'user_id': 'Sp3ctre',\n",
       "   'item_id': 730,\n",
       "   'Año': 2015,\n",
       "   'Horas': 34784.0},\n",
       "  {'user_id': 'Sp3ctre', 'item_id': 209650, 'Año': 2015, 'Horas': 232.0},\n",
       "  {'user_id': 'Sp3ctre', 'item_id': 252490, 'Año': 2016, 'Horas': 7024.0},\n",
       "  {'user_id': 'Sp3ctre', 'item_id': 252950, 'Año': 2015, 'Horas': 7472.0},\n",
       "  {'user_id': 'Sp3ctre', 'item_id': 359550, 'Año': 2016, 'Horas': 8448.0}]}"
      ]
     },
     "execution_count": 136,
     "metadata": {},
     "output_type": "execute_result"
    }
   ],
   "source": [
    "UserForGenre('Action')"
   ]
  },
  {
   "cell_type": "code",
   "execution_count": 73,
   "metadata": {},
   "outputs": [],
   "source": [
    "@app.get(\"/UsersRecommend/{year}\")\n",
    "def UsersRecommend(year: int):\n",
    "    # Filter the DataFrame for the given year and recommended reviews with positive/neutral sentiment\n",
    "    filtered_df = df[(df['recommend'] == True) & (df['sentiment_analysis'] >= 1) & (pd.to_datetime(df['posted']).dt.year == year)]\n",
    "\n",
    "    if filtered_df.empty:\n",
    "        return {\"error\": \"No recommended games found for the given year\"}\n",
    "\n",
    "    # Group by game and calculate the number of recommendations\n",
    "    game_recommendations = filtered_df.groupby('item_name')['recommend'].sum()\n",
    "\n",
    "    if game_recommendations.empty:\n",
    "        return {\"error\": \"No recommended games found for the given year\"}\n",
    "\n",
    "    # Sort the games by the number of recommendations in descending order\n",
    "    sorted_games = game_recommendations.sort_values(ascending=False)\n",
    "\n",
    "    # Take the top 3 games\n",
    "    top_3_games = sorted_games.head(3)\n",
    "\n",
    "    # Create the result in the specified format\n",
    "    result = [{\"1st Place\": top_3_games.index[0]}, {\"2nd Place\": top_3_games.index[1]}, {\"3rd Place\": top_3_games.index[2]}]\n",
    "\n",
    "    return result"
   ]
  },
  {
   "cell_type": "code",
   "execution_count": 137,
   "metadata": {},
   "outputs": [
    {
     "data": {
      "text/plain": [
       "[{'1st Place': \"Garry's Mod\"},\n",
       " {'2nd Place': 'Left 4 Dead 2'},\n",
       " {'3rd Place': 'Terraria'}]"
      ]
     },
     "execution_count": 137,
     "metadata": {},
     "output_type": "execute_result"
    }
   ],
   "source": [
    "UsersRecommend(2013)"
   ]
  },
  {
   "cell_type": "code",
   "execution_count": 75,
   "metadata": {},
   "outputs": [],
   "source": [
    "@app.get(\"/UsersNotRecommend/{year}\")\n",
    "def UsersNotRecommend(year: int):\n",
    "    # Filter the DataFrame for the given year and not recommended reviews with negative sentiment\n",
    "    filtered_df = df[(df['recommend'] == False) & (df['sentiment_analysis'] == 0) & (pd.to_datetime(df['posted']).dt.year == year)]\n",
    "\n",
    "    if filtered_df.empty:\n",
    "        return {\"error\": \"No least recommended games found for the given year\"}\n",
    "\n",
    "    # Group by game and calculate the number of not recommended reviews\n",
    "    game_not_recommendations = filtered_df.groupby('item_name')['recommend'].count()\n",
    "\n",
    "    if game_not_recommendations.empty:\n",
    "        return {\"error\": \"No least recommended games found for the given year\"}\n",
    "\n",
    "    # Sort the games by the number of not recommended reviews in ascending order\n",
    "    sorted_games = game_not_recommendations.sort_values(ascending=True)\n",
    "\n",
    "    # Take the top 3 games\n",
    "    top_3_games = sorted_games.head(3)\n",
    "\n",
    "    # Create the result in the specified format\n",
    "    result = [{\"1st Place\": top_3_games.index[0]}, {\"2nd Place\": top_3_games.index[1]}, {\"3rd Place\": top_3_games.index[2]}]\n",
    "\n",
    "    return result"
   ]
  },
  {
   "cell_type": "code",
   "execution_count": 138,
   "metadata": {},
   "outputs": [
    {
     "data": {
      "text/plain": [
       "[{'1st Place': 'Spelunky'},\n",
       " {'2nd Place': 'E.Y.E: Divine Cybermancy'},\n",
       " {'3rd Place': 'Dungeons & Dragons: Daggerdale'}]"
      ]
     },
     "execution_count": 138,
     "metadata": {},
     "output_type": "execute_result"
    }
   ],
   "source": [
    "UsersNotRecommend(2013)"
   ]
  },
  {
   "cell_type": "code",
   "execution_count": 91,
   "metadata": {},
   "outputs": [],
   "source": [
    "@app.get(\"/sentiment_analysis/{year}\")\n",
    "def sentiment_analysis(year: int):\n",
    "\n",
    "    # Filter the DataFrame for the given year\n",
    "    filtered_df = df[pd.to_datetime(df['release_date']).dt.year == year]\n",
    "\n",
    "    if filtered_df.empty:\n",
    "        return {\"error\": \"No data found for the given year\"}\n",
    "\n",
    "    # Group by 'sentiment_analysis' and calculate the sum of each sentiment\n",
    "    grouped_sentiments = filtered_df.groupby(['sentiment_analysis'])['user_id'].nunique().reset_index()\n",
    "\n",
    "    # Rename the columns and map sentiment values to labels\n",
    "    grouped_sentiments.columns = ['Sentiment', 'Count']\n",
    "    sentiment_labels = {0: 'Negative', 1: 'Neutral', 2: 'Positive'}\n",
    "    grouped_sentiments['Sentiment'] = grouped_sentiments['Sentiment'].map(sentiment_labels)\n",
    "\n",
    "    # Convert the DataFrame to a dictionary\n",
    "    sentiment_counts = grouped_sentiments.set_index('Sentiment')['Count'].to_dict()\n",
    "\n",
    "    return sentiment_counts"
   ]
  },
  {
   "cell_type": "code",
   "execution_count": 139,
   "metadata": {},
   "outputs": [
    {
     "data": {
      "text/plain": [
       "{'Negative': 2264, 'Neutral': 1810, 'Positive': 3547}"
      ]
     },
     "execution_count": 139,
     "metadata": {},
     "output_type": "execute_result"
    }
   ],
   "source": [
    "sentiment_analysis(2014)"
   ]
  },
  {
   "cell_type": "code",
   "execution_count": 142,
   "metadata": {},
   "outputs": [],
   "source": [
    "# Function for user-item recommendation\n",
    "def user_recommendation(user_id):\n",
    "    user_history = df[df['user_id'] == user_id]\n",
    "    user_preferences = user_history.groupby('item_name')['playtime_forever'].mean().reset_index()\n",
    "    user_preferences = user_preferences.sort_values(by='playtime_forever', ascending=False)\n",
    "    recommended_games = user_preferences['item_name'].head(5).tolist()\n",
    "    return recommended_games\n",
    "\n",
    "# User-item recommendation endpoint\n",
    "@app.get(\"/UserRecommendation/{user_id}\")\n",
    "def user_item_recommendation(user_id: str):\n",
    "    recommended_games = user_recommendation(user_id)\n",
    "    return {\"Recommended Games\": recommended_games}"
   ]
  },
  {
   "cell_type": "code",
   "execution_count": 143,
   "metadata": {},
   "outputs": [
    {
     "data": {
      "text/plain": [
       "[\"Garry's Mod\",\n",
       " 'Killing Floor',\n",
       " 'No More Room in Hell',\n",
       " 'Castle Crashers',\n",
       " 'Block N Load']"
      ]
     },
     "execution_count": 143,
     "metadata": {},
     "output_type": "execute_result"
    }
   ],
   "source": [
    "user_recommendation('diego9031')"
   ]
  },
  {
   "cell_type": "code",
   "execution_count": 141,
   "metadata": {},
   "outputs": [],
   "source": [
    "# Encode the 'item_name' column into numerical values\n",
    "label_encoder = LabelEncoder()\n",
    "df['item_name_encoded'] = label_encoder.fit_transform(df['item_name'])\n",
    "\n",
    "# Standardize the 'playtime_forever' column (optional but recommended)\n",
    "scaler = StandardScaler()\n",
    "df['playtime_forever_st'] = scaler.fit_transform(df['playtime_forever'].values.reshape(-1, 1))\n",
    "\n",
    "# Create a DataFrame with the features for K-nearest neighbors\n",
    "item_features = df[['item_name_encoded', 'playtime_forever_st']]\n",
    "\n",
    "# Initialize the K-nearest neighbors model\n",
    "knn_model = NearestNeighbors(n_neighbors=6, metric='cosine')\n",
    "\n",
    "# Fit the model to your item features\n",
    "knn_model.fit(item_features)\n",
    "\n",
    "# Item-item recommendation\n",
    "def game_recommendation_knn(item_id):\n",
    "    # Check if the item_id exists in the dataset\n",
    "    if item_id not in df['item_id'].values:\n",
    "        return {\"Error\": f\"Item ID {item_id} not found in the dataset\"}\n",
    "\n",
    "    # Find the index of the provided item_id in the dataset\n",
    "    item_index = df[df['item_id'] == item_id].index[0]\n",
    "\n",
    "    # Find the K-nearest neighbors, increase n_neighbors to ensure at least 5\n",
    "    n_neighbors = 10\n",
    "    distances, indices = knn_model.kneighbors([item_features.iloc[item_index]], n_neighbors=n_neighbors)\n",
    "\n",
    "    # Extract recommended games using inverse_transform\n",
    "    recommended_games = list(set(df.iloc[indices[0][1:n_neighbors]]['item_name']))\n",
    "\n",
    "    # Ensure you have at least 5 recommendations\n",
    "    while len(recommended_games) < 5 and n_neighbors < len(df):\n",
    "        n_neighbors += 1\n",
    "        distances, indices = knn_model.kneighbors([item_features.iloc[item_index]], n_neighbors=n_neighbors)\n",
    "        recommended_games = list(set(df.iloc[indices[0][1:n_neighbors]]['item_name']))\n",
    "\n",
    "    # Take the top 5 recommendations\n",
    "    recommended_games = recommended_games[:5]\n",
    "\n",
    "    return {\"Recommended Games\": recommended_games}\n",
    "\n",
    "@app.get(\"/game-recommendation/{item_id}\")\n",
    "def get_game_recommendation_knn(item_id: str):\n",
    "    recommended_games = game_recommendation_knn(item_id)\n",
    "    return {\"Recommended Games\": recommended_games}"
   ]
  },
  {
   "cell_type": "code",
   "execution_count": 146,
   "metadata": {},
   "outputs": [
    {
     "name": "stderr",
     "output_type": "stream",
     "text": [
      "c:\\Users\\HP\\AppData\\Local\\Programs\\Python\\Python310\\lib\\site-packages\\sklearn\\base.py:465: UserWarning: X does not have valid feature names, but NearestNeighbors was fitted with feature names\n",
      "  warnings.warn(\n"
     ]
    },
    {
     "data": {
      "text/plain": [
       "{'Recommended Games': ['The Witcher 2: Assassins of Kings Enhanced Edition',\n",
       "  'SNOW',\n",
       "  'Mortal Kombat Komplete Edition',\n",
       "  'The Journey Down: Chapter Two',\n",
       "  'VVVVVV']}"
      ]
     },
     "execution_count": 146,
     "metadata": {},
     "output_type": "execute_result"
    }
   ],
   "source": [
    "game_recommendation_knn(262850)"
   ]
  }
 ],
 "metadata": {
  "kernelspec": {
   "display_name": "Python 3",
   "language": "python",
   "name": "python3"
  },
  "language_info": {
   "codemirror_mode": {
    "name": "ipython",
    "version": 3
   },
   "file_extension": ".py",
   "mimetype": "text/x-python",
   "name": "python",
   "nbconvert_exporter": "python",
   "pygments_lexer": "ipython3",
   "version": "3.10.11"
  },
  "orig_nbformat": 4
 },
 "nbformat": 4,
 "nbformat_minor": 2
}
